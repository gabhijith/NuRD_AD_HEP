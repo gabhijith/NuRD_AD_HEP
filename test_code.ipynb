{
 "cells": [
  {
   "cell_type": "code",
   "execution_count": 1,
   "metadata": {},
   "outputs": [],
   "source": [
    "import datasets.grab_datsets"
   ]
  },
  {
   "cell_type": "code",
   "execution_count": 2,
   "metadata": {},
   "outputs": [
    {
     "name": "stdout",
     "output_type": "stream",
     "text": [
      "Loading datasets from existing npz files\n",
      "What dataset do you want human ? train  or test or ood?\n"
     ]
    },
    {
     "ename": "Exception",
     "evalue": "Invalid dataset type",
     "output_type": "error",
     "traceback": [
      "\u001b[0;31m---------------------------------------------------------------------------\u001b[0m",
      "\u001b[0;31mException\u001b[0m                                 Traceback (most recent call last)",
      "\u001b[1;32m/Users/abhijith/work/projects/nurd/NuRD_AD_HEP/test_code.ipynb Cell 2\u001b[0m in \u001b[0;36m<cell line: 1>\u001b[0;34m()\u001b[0m\n\u001b[0;32m----> <a href='vscode-notebook-cell:/Users/abhijith/work/projects/nurd/NuRD_AD_HEP/test_code.ipynb#W1sZmlsZQ%3D%3D?line=0'>1</a>\u001b[0m datasets\u001b[39m.\u001b[39;49mgrab_datsets\u001b[39m.\u001b[39;49mgrab_datasets(\u001b[39m'\u001b[39;49m\u001b[39mimages\u001b[39;49m\u001b[39m'\u001b[39;49m,\u001b[39m1024\u001b[39;49m,\u001b[39m'\u001b[39;49m\u001b[39mhimages_lowres.h5\u001b[39;49m\u001b[39m'\u001b[39;49m,\u001b[39m'\u001b[39;49m\u001b[39mimages\u001b[39;49m\u001b[39m'\u001b[39;49m,take_every\u001b[39m=\u001b[39;49m\u001b[39m1\u001b[39;49m)\n",
      "File \u001b[0;32m~/work/projects/nurd/NuRD_AD_HEP/datasets/grab_datsets.py:119\u001b[0m, in \u001b[0;36mgrab_datasets\u001b[0;34m(dataset_type, batch_size, dataset_path, input_type, take_every)\u001b[0m\n\u001b[1;32m    117\u001b[0m \u001b[39melse\u001b[39;00m:\n\u001b[1;32m    118\u001b[0m     \u001b[39mprint\u001b[39m(\u001b[39m\"\u001b[39m\u001b[39mWhat dataset do you want human ? train  or test or ood?\u001b[39m\u001b[39m\"\u001b[39m)\n\u001b[0;32m--> 119\u001b[0m     \u001b[39mraise\u001b[39;00m \u001b[39mException\u001b[39;00m(\u001b[39m\"\u001b[39m\u001b[39mInvalid dataset type\u001b[39m\u001b[39m\"\u001b[39m)\n\u001b[1;32m    120\u001b[0m     \u001b[39mreturn\u001b[39;00m\n",
      "\u001b[0;31mException\u001b[0m: Invalid dataset type"
     ]
    }
   ],
   "source": [
    "datasets.grab_datsets.grab_datasets('images',1024,'himages_lowres.h5','images',take_every=1)"
   ]
  },
  {
   "cell_type": "code",
   "execution_count": null,
   "metadata": {},
   "outputs": [],
   "source": []
  }
 ],
 "metadata": {
  "kernelspec": {
   "display_name": "Python 3.9.10 ('base')",
   "language": "python",
   "name": "python3"
  },
  "language_info": {
   "codemirror_mode": {
    "name": "ipython",
    "version": 3
   },
   "file_extension": ".py",
   "mimetype": "text/x-python",
   "name": "python",
   "nbconvert_exporter": "python",
   "pygments_lexer": "ipython3",
   "version": "3.9.16"
  },
  "orig_nbformat": 4,
  "vscode": {
   "interpreter": {
    "hash": "ccad25ce197360c0f51c7d951f15faa3a823854e2a2bcc1c7d9e660ec9079ef2"
   }
  }
 },
 "nbformat": 4,
 "nbformat_minor": 2
}
